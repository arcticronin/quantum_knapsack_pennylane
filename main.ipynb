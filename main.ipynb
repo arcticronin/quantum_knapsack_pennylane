{
 "cells": [
  {
   "cell_type": "code",
   "execution_count": 5,
   "id": "24d37ca3",
   "metadata": {},
   "outputs": [],
   "source": [
    "import pennylane as qml\n",
    "from pennylane import numpy as np\n",
    "import matplotlib.pyplot as plt"
   ]
  },
  {
   "cell_type": "code",
   "execution_count": 6,
   "id": "ab7ad260",
   "metadata": {},
   "outputs": [],
   "source": [
    "def oracle(numbers, goal, wires, aux_wires):\n",
    "    \"\"\"Oracle to mark states where the sum of the selected numbers is equal to the goal.\"\"\"\n",
    "    \n",
    "    def add_k_fourier(k, wires):\n",
    "        for j in range(len(wires)):\n",
    "            qml.RZ(k * np.pi / (2**j), wires=wires[j])\n",
    "    \n",
    "    def compute_sum_in_fourier_basis():\n",
    "        qml.QFT(wires=aux_wires)\n",
    "        for idx, wire in enumerate(wires):\n",
    "            qml.ctrl(add_k_fourier, control=wire)(numbers[idx], wires=aux_wires)\n",
    "        qml.adjoint(qml.QFT)(wires=aux_wires)\n",
    "        \n",
    "    compute_sum_in_fourier_basis()\n",
    "    qml.FlipSign(goal, aux_wires)\n",
    "    qml.adjoint(compute_sum_in_fourier_basis)()\n",
    "\n",
    "def grover_circuit(numbers, goal):\n",
    "    num_wires = len(numbers)\n",
    "    aux_wires = [num_wires + i for i in range(num_wires)]\n",
    "    dev = qml.device(\"default.qubit\", wires=num_wires + num_wires)\n",
    "    \n",
    "    @qml.qnode(dev)\n",
    "    def circuit():\n",
    "        # Step 1: Apply Hadamard gates to all variable wires\n",
    "        for wire in range(num_wires):\n",
    "            qml.Hadamard(wires=wire)\n",
    "        \n",
    "        for _ in range(3):\n",
    "            # Step 2: Apply the oracle\n",
    "            oracle(numbers, goal, range(num_wires), aux_wires)\n",
    "            \n",
    "            # Step 3: Apply Grover's diffusion operator\n",
    "            qml.GroverOperator(wires=range(num_wires))\n",
    "        \n",
    "        return qml.probs(wires=range(num_wires))\n",
    "    \n",
    "    return circuit()\n"
   ]
  },
  {
   "cell_type": "code",
   "execution_count": 7,
   "id": "b2c79ccb",
   "metadata": {},
   "outputs": [
    {
     "data": {
      "text/plain": [
       "<BarContainer object of 64 artists>"
      ]
     },
     "execution_count": 7,
     "metadata": {},
     "output_type": "execute_result"
    },
    {
     "data": {
      "image/png": "[encoded data removed]",
      "text/plain": [
       "<Figure size 640x480 with 1 Axes>"
      ]
     },
     "metadata": {},
     "output_type": "display_data"
    }
   ],
   "source": [
    "numbers = [4, 8, 6, 3, 12, 15]\n",
    "numbers = [4, 8, 6, 3, 12, 15]\n",
    "goal = 18\n",
    "goal = 15\n",
    "result = grover_circuit(numbers, goal)\n",
    "\n",
    "plt.bar( range(len(result)),  result)"
   ]
  },
  {
   "cell_type": "code",
   "execution_count": 8,
   "id": "c44e9709",
   "metadata": {},
   "outputs": [],
   "source": [
    "## now get only one shot, \n",
    "#   shots=1 \n",
    "#   method to return sample\n",
    "\n",
    "def grover_circuit(numbers, goal):\n",
    "    num_wires = len(numbers)\n",
    "    aux_wires = [num_wires + i for i in range(num_wires)]\n",
    "    dev = qml.device(\"default.qubit\", wires=num_wires + num_wires, shots=1)\n",
    "    \n",
    "    @qml.qnode(dev)\n",
    "    def circuit():\n",
    "        # Step 1: Apply Hadamard gates to all variable wires\n",
    "        for wire in range(num_wires):\n",
    "            qml.Hadamard(wires=wire)\n",
    "        \n",
    "        for _ in range(1):\n",
    "            # Step 2: Apply the oracle\n",
    "            oracle(numbers, goal, range(num_wires), aux_wires)\n",
    "            \n",
    "            # Step 3: Apply Grover's diffusion operator\n",
    "            qml.GroverOperator(wires=range(num_wires))\n",
    "        \n",
    "        return qml.sample(wires=range(num_wires))\n",
    "    \n",
    "    return circuit()\n"
   ]
  },
  {
   "cell_type": "code",
   "execution_count": 9,
   "id": "3498da3a",
   "metadata": {},
   "outputs": [],
   "source": [
    "result = grover_circuit(numbers, goal)"
   ]
  },
  {
   "cell_type": "code",
   "execution_count": 10,
   "id": "a349e82a",
   "metadata": {},
   "outputs": [
    {
     "data": {
      "text/plain": [
       "array([8])"
      ]
     },
     "execution_count": 10,
     "metadata": {},
     "output_type": "execute_result"
    }
   ],
   "source": [
    "np.array(numbers)[result == 1].numpy()"
   ]
  },
  {
   "cell_type": "code",
   "execution_count": 11,
   "id": "c681c51a",
   "metadata": {},
   "outputs": [
    {
     "data": {
      "text/plain": [
       "([<matplotlib.axis.XTick at 0x766236e04740>,\n",
       "  <matplotlib.axis.XTick at 0x766236ef8bc0>,\n",
       "  <matplotlib.axis.XTick at 0x766236f472c0>,\n",
       "  <matplotlib.axis.XTick at 0x766236e13d40>,\n",
       "  <matplotlib.axis.XTick at 0x766236dd4cb0>,\n",
       "  <matplotlib.axis.XTick at 0x766236e3c620>],\n",
       " [Text(0, 0, '4'),\n",
       "  Text(1, 0, '8'),\n",
       "  Text(2, 0, '6'),\n",
       "  Text(3, 0, '3'),\n",
       "  Text(4, 0, '12'),\n",
       "  Text(5, 0, '15')])"
      ]
     },
     "execution_count": 11,
     "metadata": {},
     "output_type": "execute_result"
    },
    {
     "data": {
      "image/png": "[encoded data removed]",
      "text/plain": [
       "<Figure size 640x480 with 1 Axes>"
      ]
     },
     "metadata": {},
     "output_type": "display_data"
    }
   ],
   "source": [
    "result = grover_circuit(numbers, goal)\n",
    "plt.bar( range(len(result)),  result)\n",
    "plt.xticks(range(len(result)), numbers)"
   ]
  },
  {
   "cell_type": "code",
   "execution_count": null,
   "id": "f9e1919d",
   "metadata": {},
   "outputs": [],
   "source": []
  },
  {
   "cell_type": "code",
   "execution_count": null,
   "id": "094e4257",
   "metadata": {},
   "outputs": [],
   "source": []
  }
 ],
 "metadata": {
  "kernelspec": {
   "display_name": "quantum",
   "language": "python",
   "name": "python3"
  },
  "language_info": {
   "codemirror_mode": {
    "name": "ipython",
    "version": 3
   },
   "file_extension": ".py",
   "mimetype": "text/x-python",
   "name": "python",
   "nbconvert_exporter": "python",
   "pygments_lexer": "ipython3",
   "version": "3.12.0"
  }
 },
 "nbformat": 4,
 "nbformat_minor": 5
}
