{
 "cells": [
  {
   "cell_type": "code",
   "execution_count": 29,
   "metadata": {},
   "outputs": [],
   "source": [
    "import pennylane as qml\n",
    "from pennylane import numpy as np\n",
    "from math import pi, sqrt, ceil\n",
    "import sys"
   ]
  },
  {
   "cell_type": "code",
   "execution_count": 30,
   "metadata": {},
   "outputs": [],
   "source": [
    "# Define the knapsack problem parameters\n",
    "weights = np.array([2, 3, 2])\n",
    "values = np.array([3, 1, 2])\n",
    "max_weight = 4\n",
    "\n",
    "# Number of items\n",
    "n = len(weights)\n",
    "\n",
    "# Define the device\n",
    "dev = qml.device(\"default.qubit\", wires=2 * n + 2)\n",
    "\n",
    "# Define the Oracle function for Grover's algorithm\n",
    "def oracle():\n",
    "    # Mark the valid solutions\n",
    "    for i in range(n):\n",
    "        qml.Toffoli(wires=[i, n + i, 2 * n])\n",
    "    for i in range(n):\n",
    "        qml.CNOT(wires=[n + i, 2 * n + 1])\n",
    "\n",
    "# Define the diffusion operator (Grover's diffusion operator)\n",
    "def diffusion():\n",
    "    for i in range(n):\n",
    "        qml.Hadamard(wires=i)\n",
    "        qml.PauliX(wires=i)\n",
    "    qml.MultiControlledX(control_wires=list(range(n)), wires=2 * n, work_wires=[2 * n + 1])\n",
    "    for i in range(n):\n",
    "        qml.PauliX(wires=i)\n",
    "        qml.Hadamard(wires=i)\n",
    "\n",
    "# Define the quantum circuit\n",
    "@qml.qnode(dev)\n",
    "def grover_circuit():\n",
    "    # Initialize superposition\n",
    "    for i in range(n):\n",
    "        qml.Hadamard(wires=i)\n",
    "\n",
    "    # Apply Oracle and Diffusion Operator sqrt(N) times\n",
    "    iterations = int(pi / 4 * sqrt(2 ** n))\n",
    "    for _ in range(iterations):\n",
    "        oracle()\n",
    "        diffusion()\n",
    "\n",
    "    return qml.probs(wires=range(n))\n",
    "\n",
    "# Classical function to verify the validity of a solution\n",
    "def is_valid(solution):\n",
    "    weight = np.dot(weights, solution)\n",
    "    value = np.dot(values, solution)\n",
    "    if weight <= max_weight and value >= V:\n",
    "        return True\n",
    "    else:\n",
    "        return False"
   ]
  },
  {
   "cell_type": "code",
   "execution_count": 31,
   "metadata": {},
   "outputs": [
    {
     "name": "stdout",
     "output_type": "stream",
     "text": [
      "0: ──H─╭●──H──X──────────╭●──X──H─╭●──H──X──────────╭●──X──H─┤ ╭Probs\n",
      "1: ──H─│──╭●──H──X───────├●──X──H─│──╭●──H──X───────├●──X──H─┤ ├Probs\n",
      "2: ──H─│──│──╭●──H──X────├●──X──H─│──│──╭●──H──X────├●──X──H─┤ ╰Probs\n",
      "3: ────├●─│──│──╭●───────│────────├●─│──│──╭●───────│────────┤       \n",
      "4: ────│──├●─│──│──╭●────│────────│──├●─│──│──╭●────│────────┤       \n",
      "5: ────│──│──├●─│──│──╭●─│────────│──│──├●─│──│──╭●─│────────┤       \n",
      "6: ────╰X─╰X─╰X─│──│──│──╰X───────╰X─╰X─╰X─│──│──│──╰X───────┤       \n",
      "7: ─────────────╰X─╰X─╰X───────────────────╰X─╰X─╰X──────────┤       \n"
     ]
    },
    {
     "name": "stderr",
     "output_type": "stream",
     "text": [
      "/home/ronin/miniforge3/envs/quantum/lib/python3.12/site-packages/pennylane/ops/op_math/controlled_ops.py:1046: UserWarning: The control_wires keyword will be removed soon. Use wires = (control_wires, target_wire) instead. See the documentation for more information.\n",
      "  warnings.warn(\n"
     ]
    }
   ],
   "source": [
    "print(qml.draw(grover_circuit)())"
   ]
  },
  {
   "cell_type": "code",
   "execution_count": 32,
   "metadata": {},
   "outputs": [
    {
     "name": "stdout",
     "output_type": "stream",
     "text": [
      "Vmin: 0, Vmax: 6, V: 3.0\n"
     ]
    },
    {
     "ename": "SystemExit",
     "evalue": "",
     "output_type": "error",
     "traceback": [
      "An exception has occurred, use %tb to see the full traceback.\n",
      "\u001b[0;31mSystemExit\u001b[0m\n"
     ]
    },
    {
     "name": "stderr",
     "output_type": "stream",
     "text": [
      "/home/ronin/miniforge3/envs/quantum/lib/python3.12/site-packages/IPython/core/interactiveshell.py:3556: UserWarning: To exit: use 'exit', 'quit', or Ctrl-D.\n",
      "  warn(\"To exit: use 'exit', 'quit', or Ctrl-D.\", stacklevel=1)\n"
     ]
    }
   ],
   "source": [
    "# Initialize parameters\n",
    "Vmin = 0\n",
    "Vmax = np.sum(values)\n",
    "optimal_value = 0\n",
    "optimal_solution = None\n",
    "\n",
    "# Outer loop\n",
    "while Vmin <= Vmax:\n",
    "    V = np.floor((Vmin + Vmax) / 2)\n",
    "    m = 2 ** n\n",
    "\n",
    "    print(f\"Vmin: {Vmin}, Vmax: {Vmax}, V: {V}\")\n",
    "    sys.exit()\n",
    "\n",
    "    # Inner loop\n",
    "    while m >= 1:\n",
    "        probs = grover_circuit()\n",
    "        most_probable_state = np.argmax(probs)\n",
    "        solution = [int(bit) for bit in format(most_probable_state, f'0{n}b')]\n",
    "        \n",
    "        if is_valid(solution):\n",
    "            optimal_solution = solution\n",
    "            optimal_value = V\n",
    "            Vmin = V + 1\n",
    "            break\n",
    "        else:\n",
    "            m = m // 2\n",
    "\n",
    "    if m < 1:\n",
    "        Vmax = V - 1\n",
    "\n",
    "# Print the optimal solution\n",
    "print(f\"Optimal solution: {optimal_solution}\")\n",
    "print(f\"Optimal value: {optimal_value}\")\n"
   ]
  },
  {
   "cell_type": "code",
   "execution_count": null,
   "metadata": {},
   "outputs": [],
   "source": []
  }
 ],
 "metadata": {
  "kernelspec": {
   "display_name": "quantum",
   "language": "python",
   "name": "python3"
  },
  "language_info": {
   "codemirror_mode": {
    "name": "ipython",
    "version": 3
   },
   "file_extension": ".py",
   "mimetype": "text/x-python",
   "name": "python",
   "nbconvert_exporter": "python",
   "pygments_lexer": "ipython3",
   "version": "3.12.0"
  }
 },
 "nbformat": 4,
 "nbformat_minor": 2
}
